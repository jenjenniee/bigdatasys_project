{
 "cells": [
  {
   "attachments": {},
   "cell_type": "markdown",
   "metadata": {},
   "source": [
    "# 7. 배달음식 품목별 순위 통계\n",
    "    all_stats = collection.aggregate([\n",
    "        {\"$group\": {\"_id\": \"$Cuisine\", \"total_orders\": {\"$sum\": 1}}},\n",
    "        {\"$sort\": {\"total_orders\": -1}}\n",
    "    ])"
   ]
  },
  {
   "cell_type": "markdown",
   "metadata": {},
   "source": [
    "최적화 후 쿼리"
   ]
  },
  {
   "cell_type": "code",
   "execution_count": null,
   "metadata": {
    "vscode": {
     "languageId": "plaintext"
    }
   },
   "outputs": [],
   "source": [
    "# 인덱스 추가: Cuisine 필드에 인덱스 생성\n",
    "collection.createIndex([(\"Cuisine\", 1)])\n",
    "\n",
    "# 쿼리 최적화: 필터링 및 정렬 수행\n",
    "all_stats = collection.aggregate([\n",
    "    {\"$group\": {\"_id\": \"$Cuisine\", \"total_orders\": {\"$sum\": 1}}},\n",
    "    {\"$sort\": {\"total_orders\": -1}}\n",
    "])"
   ]
  },
  {
   "attachments": {},
   "cell_type": "markdown",
   "metadata": {},
   "source": [
    "# 8. 2020년 7월 기준 각 \"도\"들의 Cuisine 별 배달량 통계\n",
    "    date_cuisine = collection.aggregate([\n",
    "    {\"$match\": {\n",
    "        \"Date\": {\"$regex\": \"^2020-07\"},\n",
    "        \"AREA.Province\": {\"$ne\": \"null\", \"$ne\": \"\"},\n",
    "        \"AREA.City\": {\"$ne\": \"null\", \"$ne\": \"\"}\n",
    "    }},\n",
    "    {\"$group\": {\n",
    "        \"_id\": {\n",
    "            \"Province\": \"$AREA.Province\",\n",
    "            \"City\": \"$AREA.City\",\n",
    "            \"Cuisine\": \"$Cuisine\"\n",
    "        },\n",
    "        \"total_orders\": {\"$sum\": 1}\n",
    "    }},\n",
    "    {\"$sort\": {\"_id.Province\": 1, \"_id.City\": 1, \"total_orders\": -1}}\n",
    "])"
   ]
  },
  {
   "cell_type": "markdown",
   "metadata": {},
   "source": [
    "최적화 후 쿼리"
   ]
  },
  {
   "cell_type": "code",
   "execution_count": null,
   "metadata": {
    "vscode": {
     "languageId": "plaintext"
    }
   },
   "outputs": [],
   "source": [
    "# 인덱스 추가: Date 필드에 인덱스 생성\n",
    "collection.createIndex([(\"Date\", 1)])\n",
    "\n",
    "# 쿼리 최적화: 필터링 및 정렬 수행\n",
    "date_cuisine = collection.aggregate([\n",
    "    {\"$match\": {\n",
    "        \"Date\": {\"$regex\": \"^2020-07\"},\n",
    "        \"AREA.Province\": {\"$ne\": \"null\", \"$ne\": \"\"},\n",
    "        \"AREA.City\": {\"$ne\": \"null\", \"$ne\": \"\"}\n",
    "    }},\n",
    "    {\"$group\": {\n",
    "        \"_id\": {\n",
    "            \"Province\": \"$AREA.Province\",\n",
    "            \"City\": \"$AREA.City\",\n",
    "            \"Cuisine\": \"$Cuisine\"\n",
    "        },\n",
    "        \"total_orders\": {\"$sum\": 1}\n",
    "    }},\n",
    "    {\"$sort\": {\"_id.Province\": 1, \"_id.City\": 1, \"total_orders\": -1}}\n",
    "])\n"
   ]
  },
  {
   "attachments": {},
   "cell_type": "markdown",
   "metadata": {},
   "source": [
    "# 9. 배달 평균 금액이 큰 동네 TOP3 통계\n",
    "    highest_price_neighborhoods = collection.aggregate([\n",
    "    {\"$group\": {\n",
    "        \"_id\": {\n",
    "            \"Province\": \"$AREA.Province\",\n",
    "            \"City\": \"$AREA.City\",\n",
    "            \"Neighborhood\": \"$AREA.Neighborhood\"\n",
    "        },\n",
    "        \"avg_price\": {\"$avg\": \"$Price\"}\n",
    "    }},\n",
    "    {\"$sort\": {\"avg_price\": -1}},\n",
    "    {\"$limit\": 3}\n",
    "])"
   ]
  },
  {
   "cell_type": "markdown",
   "metadata": {},
   "source": [
    "최적화 후 쿼리"
   ]
  },
  {
   "cell_type": "code",
   "execution_count": null,
   "metadata": {
    "vscode": {
     "languageId": "plaintext"
    }
   },
   "outputs": [],
   "source": [
    "# 인덱스 추가: AREA.Province, AREA.City, AREA.Neighborhood 필드에 다중필드 인덱스 생성\n",
    "collection.createIndex([(\"AREA.Province\", 1), (\"AREA.City\", 1), (\"AREA.Neighborhood\", 1)])\n",
    "\n",
    "# 쿼리 최적화: 필터링 및 정렬 수행\n",
    "highest_price_neighborhoods = collection.aggregate([\n",
    "    {\"$group\": {\n",
    "        \"_id\": {\n",
    "            \"Province\": \"$AREA.Province\",\n",
    "            \"City\": \"$AREA.City\",\n",
    "            \"Neighborhood\": \"$AREA.Neighborhood\"\n",
    "        },\n",
    "        \"avg_price\": {\"$avg\": \"$Price\"}\n",
    "    }},\n",
    "    {\"$sort\": {\"avg_price\": -1}},\n",
    "    {\"$limit\": 3}\n",
    "])\n"
   ]
  }
 ],
 "metadata": {
  "language_info": {
   "name": "python"
  },
  "orig_nbformat": 4
 },
 "nbformat": 4,
 "nbformat_minor": 2
}
